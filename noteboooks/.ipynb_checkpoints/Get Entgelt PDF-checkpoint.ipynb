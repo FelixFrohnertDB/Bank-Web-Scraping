{
 "cells": [
  {
   "cell_type": "markdown",
   "metadata": {},
   "source": [
    "# Import Libraries"
   ]
  },
  {
   "cell_type": "code",
   "execution_count": 1,
   "metadata": {
    "scrolled": true
   },
   "outputs": [],
   "source": [
    "import sys\n",
    "sys.path.append(\"/home/felix/PycharmProjects/Bank-Web-Scraping/\")\n",
    "import utils.get_entgelt_pdf as ut "
   ]
  },
  {
   "cell_type": "code",
   "execution_count": 2,
   "metadata": {},
   "outputs": [
    {
     "name": "stderr",
     "output_type": "stream",
     "text": [
      "Traceback (most recent call last):\n",
      "  File \"/home/felix/PycharmProjects/Bank-Web-Scraping/utils/get_entgelt_pdf.py\", line 217, in get_preisaushang_pdf_vr\n",
      "    tryUrl = url + tryAr[cnt]\n",
      "IndexError: list index out of range\n"
     ]
    },
    {
     "name": "stdout",
     "output_type": "stream",
     "text": [
      "No success with current tryAr rsgv\n",
      "0\n"
     ]
    },
    {
     "name": "stderr",
     "output_type": "stream",
     "text": [
      "Traceback (most recent call last):\n",
      "  File \"/home/felix/PycharmProjects/Bank-Web-Scraping/utils/get_entgelt_pdf.py\", line 217, in get_preisaushang_pdf_vr\n",
      "    tryUrl = url + tryAr[cnt]\n",
      "IndexError: list index out of range\n"
     ]
    },
    {
     "name": "stdout",
     "output_type": "stream",
     "text": [
      "No success with current tryAr sv-bw\n",
      "1\n"
     ]
    },
    {
     "name": "stderr",
     "output_type": "stream",
     "text": [
      "Traceback (most recent call last):\n",
      "  File \"/home/felix/PycharmProjects/Bank-Web-Scraping/utils/get_entgelt_pdf.py\", line 217, in get_preisaushang_pdf_vr\n",
      "    tryUrl = url + tryAr[cnt]\n",
      "IndexError: list index out of range\n"
     ]
    },
    {
     "name": "stdout",
     "output_type": "stream",
     "text": [
      "No success with current tryAr hsgv\n",
      "4\n"
     ]
    },
    {
     "name": "stderr",
     "output_type": "stream",
     "text": [
      "Traceback (most recent call last):\n",
      "  File \"/home/felix/PycharmProjects/Bank-Web-Scraping/utils/get_entgelt_pdf.py\", line 217, in get_preisaushang_pdf_vr\n",
      "    tryUrl = url + tryAr[cnt]\n",
      "IndexError: list index out of range\n"
     ]
    },
    {
     "name": "stdout",
     "output_type": "stream",
     "text": [
      "No success with current tryAr sparkassen-finanzgruppe-ht\n",
      "5\n"
     ]
    },
    {
     "name": "stderr",
     "output_type": "stream",
     "text": [
      "Traceback (most recent call last):\n",
      "  File \"/home/felix/PycharmProjects/Bank-Web-Scraping/utils/get_entgelt_pdf.py\", line 217, in get_preisaushang_pdf_vr\n",
      "    tryUrl = url + tryAr[cnt]\n",
      "IndexError: list index out of range\n"
     ]
    },
    {
     "name": "stdout",
     "output_type": "stream",
     "text": [
      "No success with current tryAr osv-online\n",
      "7\n"
     ]
    },
    {
     "name": "stderr",
     "output_type": "stream",
     "text": [
      "Traceback (most recent call last):\n",
      "  File \"/home/felix/PycharmProjects/Bank-Web-Scraping/utils/get_entgelt_pdf.py\", line 217, in get_preisaushang_pdf_vr\n",
      "    tryUrl = url + tryAr[cnt]\n",
      "IndexError: list index out of range\n"
     ]
    },
    {
     "name": "stdout",
     "output_type": "stream",
     "text": [
      "No success with current tryAr sv-rlp\n",
      "8\n"
     ]
    },
    {
     "name": "stderr",
     "output_type": "stream",
     "text": [
      "Traceback (most recent call last):\n",
      "  File \"/home/felix/PycharmProjects/Bank-Web-Scraping/utils/get_entgelt_pdf.py\", line 217, in get_preisaushang_pdf_vr\n",
      "    tryUrl = url + tryAr[cnt]\n",
      "IndexError: list index out of range\n"
     ]
    },
    {
     "name": "stdout",
     "output_type": "stream",
     "text": [
      "No success with current tryAr svsaar\n",
      "9\n"
     ]
    },
    {
     "name": "stderr",
     "output_type": "stream",
     "text": [
      "Traceback (most recent call last):\n",
      "  File \"/home/felix/PycharmProjects/Bank-Web-Scraping/utils/get_entgelt_pdf.py\", line 217, in get_preisaushang_pdf_vr\n",
      "    tryUrl = url + tryAr[cnt]\n",
      "IndexError: list index out of range\n"
     ]
    },
    {
     "name": "stdout",
     "output_type": "stream",
     "text": [
      "No success with current tryAr svwl.eu/index.html\n",
      "10\n"
     ]
    },
    {
     "name": "stderr",
     "output_type": "stream",
     "text": [
      "Traceback (most recent call last):\n",
      "  File \"/home/felix/PycharmProjects/Bank-Web-Scraping/utils/get_entgelt_pdf.py\", line 217, in get_preisaushang_pdf_vr\n",
      "    tryUrl = url + tryAr[cnt]\n",
      "IndexError: list index out of range\n"
     ]
    },
    {
     "name": "stdout",
     "output_type": "stream",
     "text": [
      "No success with current tryAr SGVSH\n",
      "11\n"
     ]
    },
    {
     "name": "stderr",
     "output_type": "stream",
     "text": [
      "Traceback (most recent call last):\n",
      "  File \"/home/felix/PycharmProjects/Bank-Web-Scraping/utils/get_entgelt_pdf.py\", line 217, in get_preisaushang_pdf_vr\n",
      "    tryUrl = url + tryAr[cnt]\n",
      "IndexError: list index out of range\n"
     ]
    },
    {
     "name": "stdout",
     "output_type": "stream",
     "text": [
      "No success with current tryAr verband-freier-sparkassen\n",
      "12\n"
     ]
    },
    {
     "name": "stderr",
     "output_type": "stream",
     "text": [
      "Traceback (most recent call last):\n",
      "  File \"/home/felix/anaconda3/lib/python3.7/site-packages/urllib3/connection.py\", line 159, in _new_conn\n",
      "    (self._dns_host, self.port), self.timeout, **extra_kw)\n",
      "  File \"/home/felix/anaconda3/lib/python3.7/site-packages/urllib3/util/connection.py\", line 57, in create_connection\n",
      "    for res in socket.getaddrinfo(host, port, family, socket.SOCK_STREAM):\n",
      "  File \"/home/felix/anaconda3/lib/python3.7/socket.py\", line 748, in getaddrinfo\n",
      "    for res in _socket.getaddrinfo(host, port, family, type, proto, flags):\n",
      "socket.gaierror: [Errno -2] Name or service not known\n",
      "\n",
      "During handling of the above exception, another exception occurred:\n",
      "\n",
      "Traceback (most recent call last):\n",
      "  File \"/home/felix/anaconda3/lib/python3.7/site-packages/urllib3/connectionpool.py\", line 600, in urlopen\n",
      "    chunked=chunked)\n",
      "  File \"/home/felix/anaconda3/lib/python3.7/site-packages/urllib3/connectionpool.py\", line 343, in _make_request\n",
      "    self._validate_conn(conn)\n",
      "  File \"/home/felix/anaconda3/lib/python3.7/site-packages/urllib3/connectionpool.py\", line 839, in _validate_conn\n",
      "    conn.connect()\n",
      "  File \"/home/felix/anaconda3/lib/python3.7/site-packages/urllib3/connection.py\", line 301, in connect\n",
      "    conn = self._new_conn()\n",
      "  File \"/home/felix/anaconda3/lib/python3.7/site-packages/urllib3/connection.py\", line 168, in _new_conn\n",
      "    self, \"Failed to establish a new connection: %s\" % e)\n",
      "urllib3.exceptions.NewConnectionError: <urllib3.connection.VerifiedHTTPSConnection object at 0x7f37e30a7e90>: Failed to establish a new connection: [Errno -2] Name or service not known\n",
      "\n",
      "During handling of the above exception, another exception occurred:\n",
      "\n",
      "Traceback (most recent call last):\n",
      "  File \"/home/felix/anaconda3/lib/python3.7/site-packages/requests/adapters.py\", line 449, in send\n",
      "    timeout=timeout\n",
      "  File \"/home/felix/anaconda3/lib/python3.7/site-packages/urllib3/connectionpool.py\", line 638, in urlopen\n",
      "    _stacktrace=sys.exc_info()[2])\n",
      "  File \"/home/felix/anaconda3/lib/python3.7/site-packages/urllib3/util/retry.py\", line 399, in increment\n",
      "    raise MaxRetryError(_pool, url, error or ResponseError(cause))\n",
      "urllib3.exceptions.MaxRetryError: HTTPSConnectionPool(host='www.kskgg.deservice', port=443): Max retries exceeded with url: /rechtliche-hinweise/pflichtinformationen/entgeltinformationen.html (Caused by NewConnectionError('<urllib3.connection.VerifiedHTTPSConnection object at 0x7f37e30a7e90>: Failed to establish a new connection: [Errno -2] Name or service not known'))\n",
      "\n",
      "During handling of the above exception, another exception occurred:\n",
      "\n",
      "Traceback (most recent call last):\n",
      "  File \"/home/felix/PycharmProjects/Bank-Web-Scraping/utils/get_entgelt_pdf.py\", line 218, in get_preisaushang_pdf_vr\n",
      "    response = requests.get(tryUrl)\n",
      "  File \"/home/felix/anaconda3/lib/python3.7/site-packages/requests/api.py\", line 75, in get\n",
      "    return request('get', url, params=params, **kwargs)\n",
      "  File \"/home/felix/anaconda3/lib/python3.7/site-packages/requests/api.py\", line 60, in request\n",
      "    return session.request(method=method, url=url, **kwargs)\n",
      "  File \"/home/felix/anaconda3/lib/python3.7/site-packages/requests/sessions.py\", line 533, in request\n",
      "    resp = self.send(prep, **send_kwargs)\n",
      "  File \"/home/felix/anaconda3/lib/python3.7/site-packages/requests/sessions.py\", line 668, in send\n",
      "    history = [resp for resp in gen] if allow_redirects else []\n",
      "  File \"/home/felix/anaconda3/lib/python3.7/site-packages/requests/sessions.py\", line 668, in <listcomp>\n",
      "    history = [resp for resp in gen] if allow_redirects else []\n",
      "  File \"/home/felix/anaconda3/lib/python3.7/site-packages/requests/sessions.py\", line 247, in resolve_redirects\n",
      "    **adapter_kwargs\n",
      "  File \"/home/felix/anaconda3/lib/python3.7/site-packages/requests/sessions.py\", line 646, in send\n",
      "    r = adapter.send(request, **kwargs)\n",
      "  File \"/home/felix/anaconda3/lib/python3.7/site-packages/requests/adapters.py\", line 516, in send\n",
      "    raise ConnectionError(e, request=request)\n",
      "requests.exceptions.ConnectionError: HTTPSConnectionPool(host='www.kskgg.deservice', port=443): Max retries exceeded with url: /rechtliche-hinweise/pflichtinformationen/entgeltinformationen.html (Caused by NewConnectionError('<urllib3.connection.VerifiedHTTPSConnection object at 0x7f37e30a7e90>: Failed to establish a new connection: [Errno -2] Name or service not known'))\n"
     ]
    },
    {
     "name": "stdout",
     "output_type": "stream",
     "text": [
      "No success with current tryAr kskgrossgerau\n",
      "150\n"
     ]
    },
    {
     "name": "stderr",
     "output_type": "stream",
     "text": [
      "Traceback (most recent call last):\n",
      "  File \"/home/felix/PycharmProjects/Bank-Web-Scraping/utils/get_entgelt_pdf.py\", line 217, in get_preisaushang_pdf_vr\n",
      "    tryUrl = url + tryAr[cnt]\n",
      "IndexError: list index out of range\n"
     ]
    },
    {
     "name": "stdout",
     "output_type": "stream",
     "text": [
      "No success with current tryAr sparkasse-ger-kandel\n",
      "190\n"
     ]
    },
    {
     "name": "stderr",
     "output_type": "stream",
     "text": [
      "Traceback (most recent call last):\n",
      "  File \"/home/felix/PycharmProjects/Bank-Web-Scraping/utils/get_entgelt_pdf.py\", line 217, in get_preisaushang_pdf_vr\n",
      "    tryUrl = url + tryAr[cnt]\n",
      "IndexError: list index out of range\n"
     ]
    },
    {
     "name": "stdout",
     "output_type": "stream",
     "text": [
      "No success with current tryAr sparkasse-suew\n",
      "208\n"
     ]
    },
    {
     "data": {
      "text/plain": [
       "0"
      ]
     },
     "execution_count": 2,
     "metadata": {},
     "output_type": "execute_result"
    }
   ],
   "source": [
    "ut.get_preisaushang_pdf_vr(\"../data/url_sp_institut.txt\", \"../pdf data/\")"
   ]
  },
  {
   "cell_type": "code",
   "execution_count": null,
   "metadata": {},
   "outputs": [],
   "source": []
  }
 ],
 "metadata": {
  "kernelspec": {
   "display_name": "Python 3",
   "language": "python",
   "name": "python3"
  },
  "language_info": {
   "codemirror_mode": {
    "name": "ipython",
    "version": 3
   },
   "file_extension": ".py",
   "mimetype": "text/x-python",
   "name": "python",
   "nbconvert_exporter": "python",
   "pygments_lexer": "ipython3",
   "version": "3.7.4"
  }
 },
 "nbformat": 4,
 "nbformat_minor": 4
}
