{
 "cells": [
  {
   "cell_type": "markdown",
   "metadata": {},
   "source": [
    "This notebook shows how to extract PDF files with price information from products."
   ]
  },
  {
   "cell_type": "markdown",
   "metadata": {},
   "source": [
    "# Import Libraries"
   ]
  },
  {
   "cell_type": "code",
   "execution_count": 10,
   "metadata": {
    "scrolled": true
   },
   "outputs": [
    {
     "data": {
      "text/plain": [
       "<module 'utils.get_entgelt_pdf' from '/home/felix/PycharmProjects/Bank-Web-Scraping/utils/get_entgelt_pdf.py'>"
      ]
     },
     "execution_count": 10,
     "metadata": {},
     "output_type": "execute_result"
    }
   ],
   "source": [
    "import sys\n",
    "sys.path.append(\"/home/felix/PycharmProjects/Bank-Web-Scraping/\")\n",
    "\n",
    "import utils.get_entgelt_pdf as ut \n",
    "import importlib"
   ]
  },
  {
   "cell_type": "markdown",
   "metadata": {},
   "source": [
    "Visit all VR Bank branch websites and download PDF files containing pricing keywords to the \"pdf data\" folder."
   ]
  },
  {
   "cell_type": "code",
   "execution_count": 34,
   "metadata": {},
   "outputs": [
    {
     "name": "stdout",
     "output_type": "stream",
     "text": [
      "kombiniert https://www.vr-dokumente.de/zkg/60069553/Vorvertragliche_Entgeltinformation.pdf \n",
      "\n",
      "kombiniert https://www.vr-dokumente.de/zkg/52069519/Vorvertragliche_Entgeltinformation.pdf \n",
      "\n",
      "kombiniert https://www.vr-dokumente.de/zkg/60069206/Vorvertragliche_Entgeltinformation.pdf \n",
      "\n",
      "kombiniert https://www.vr-dokumente.de/zkg/72069005/Vorvertragliche_Entgeltinformation.pdf \n",
      "\n"
     ]
    },
    {
     "data": {
      "text/plain": [
       "0"
      ]
     },
     "execution_count": 34,
     "metadata": {},
     "output_type": "execute_result"
    }
   ],
   "source": [
    "ut.get_preisaushang_pdf_vr(\"../data/url_vr_institut_test.txt\", \"../pdf data/\")"
   ]
  }
 ],
 "metadata": {
  "kernelspec": {
   "display_name": "Python 3",
   "language": "python",
   "name": "python3"
  },
  "language_info": {
   "codemirror_mode": {
    "name": "ipython",
    "version": 3
   },
   "file_extension": ".py",
   "mimetype": "text/x-python",
   "name": "python",
   "nbconvert_exporter": "python",
   "pygments_lexer": "ipython3",
   "version": "3.7.4"
  }
 },
 "nbformat": 4,
 "nbformat_minor": 4
}
