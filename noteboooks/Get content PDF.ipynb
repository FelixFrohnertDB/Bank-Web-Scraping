{
 "cells": [
  {
   "cell_type": "markdown",
   "metadata": {},
   "source": [
    "This notebook details how information is extraced from PDF files containing pricing information."
   ]
  },
  {
   "cell_type": "markdown",
   "metadata": {},
   "source": [
    "# Import Libraries"
   ]
  },
  {
   "cell_type": "code",
   "execution_count": 1,
   "metadata": {
    "scrolled": true
   },
   "outputs": [],
   "source": [
    "import sys\n",
    "sys.path.append(\"/home/felix/PycharmProjects/Bank-Web-Scraping/\")\n",
    "import utils.get_content_pdf as ut "
   ]
  },
  {
   "cell_type": "markdown",
   "metadata": {},
   "source": [
    "We take the PDF file and extract the names of all products and the page they are located on."
   ]
  },
  {
   "cell_type": "code",
   "execution_count": 4,
   "metadata": {},
   "outputs": [
    {
     "data": {
      "text/plain": [
       "[['Premium', 1],\n",
       " ['Komfort', 6],\n",
       " ['Klassik', 10],\n",
       " ['PrimaGiro', 15],\n",
       " ['Basiskonto', 19]]"
      ]
     },
     "execution_count": 4,
     "metadata": {},
     "output_type": "execute_result"
    }
   ],
   "source": [
    "ut.get_name(\"../pdf data/frankenberger-bank_kombiniert.pdf\")"
   ]
  },
  {
   "cell_type": "markdown",
   "metadata": {},
   "source": [
    "We then extract the price of a given product."
   ]
  },
  {
   "cell_type": "code",
   "execution_count": 6,
   "metadata": {},
   "outputs": [
    {
     "data": {
      "text/plain": [
       "'8.99'"
      ]
     },
     "execution_count": 6,
     "metadata": {},
     "output_type": "execute_result"
    }
   ],
   "source": [
    "ut.get_content_pdf_vr(\"../pdf data/frankenberger-bank_kombiniert.pdf\",1,6)"
   ]
  },
  {
   "cell_type": "markdown",
   "metadata": {},
   "source": [
    "This is repeated for all PDF files in a given directory and the results are saved in a csv file."
   ]
  },
  {
   "cell_type": "code",
   "execution_count": 4,
   "metadata": {},
   "outputs": [
    {
     "data": {
      "text/plain": [
       "0"
      ]
     },
     "execution_count": 4,
     "metadata": {},
     "output_type": "execute_result"
    }
   ],
   "source": [
    "ut.get_all_content(\"../pdf data\")"
   ]
  },
  {
   "cell_type": "code",
   "execution_count": 5,
   "metadata": {},
   "outputs": [
    {
     "data": {
      "text/plain": [
       "[\"['raibadirekt', 'KontoDirekt', '6.90']\\n\",\n",
       " \"['raibadirekt', 'Basiskonto Direkt', '6.90']\\n\",\n",
       " \"['raibadirekt', 'KontoPrivat', '4.50']\\n\",\n",
       " \"['raibadirekt', 'Basiskonto', '4.50']\\n\",\n",
       " \"['raibadirekt', 'VR-MeinKonto', '0.00']\\n\",\n",
       " \"['frankenberger-bank', 'Premium', '8.99']\\n\",\n",
       " \"['frankenberger-bank', 'Komfort', '5.99']\\n\",\n",
       " \"['frankenberger-bank', 'Klassik', '3.45']\\n\",\n",
       " \"['frankenberger-bank', 'PrimaGiro', 404.0]\\n\",\n",
       " \"['frankenberger-bank', 'Basiskonto', '3.45']\\n\",\n",
       " \"['IhrZiel', 'VR-KomplettKonto', '7.00']\\n\",\n",
       " \"['IhrZiel', 'VR-IndividualKonto', '3.50']\\n\",\n",
       " \"['IhrZiel', 'VR-NetKonto', '3.75']\\n\",\n",
       " \"['IhrZiel', 'Basiskonto (VR-Komplett)', '7.00']\\n\",\n",
       " \"['IhrZiel', 'VR-MeinKonto', 404.0]\\n\",\n",
       " \"['IhrZiel', 'Basiskonto (VR-Net)', '3.75']\\n\",\n",
       " \"['raiba-aindling', 'VR-GiroPrivat', '7.95']\\n\",\n",
       " \"['raiba-aindling', 'VR-GiroOnline', '3.95']\\n\",\n",
       " \"['raiba-aindling', 'VR-Giro-Youngbis 21 Jahre ', 404.0]\\n\",\n",
       " \"['raiba-aindling', 'VR-PrimaStudent für alle StudentenVoraussetzung: halbjährliche Vorlage der Immatrikulationsbescheinigung', 404.0]\\n\",\n",
       " \"['raiba-aindling', 'VR-GiroGold (inkl. goldener Kreditkarte)', '12.90']\\n\",\n",
       " \"['raiba-aindling', 'Basiskonto gemäß Zahlungskontengesetz', '7.95']\\n\",\n",
       " \"['raiba-aindling', 'VR-GiroPrivat P-Konto', '7.95']\\n\"]"
      ]
     },
     "execution_count": 5,
     "metadata": {},
     "output_type": "execute_result"
    }
   ],
   "source": [
    "open(\"../pdf data/pdf_data.csv\",\"r\").readlines()"
   ]
  }
 ],
 "metadata": {
  "kernelspec": {
   "display_name": "Python 3",
   "language": "python",
   "name": "python3"
  },
  "language_info": {
   "codemirror_mode": {
    "name": "ipython",
    "version": 3
   },
   "file_extension": ".py",
   "mimetype": "text/x-python",
   "name": "python",
   "nbconvert_exporter": "python",
   "pygments_lexer": "ipython3",
   "version": "3.7.4"
  }
 },
 "nbformat": 4,
 "nbformat_minor": 4
}
