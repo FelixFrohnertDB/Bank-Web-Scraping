{
 "cells": [
  {
   "cell_type": "markdown",
   "metadata": {},
   "source": [
    "# Import Libraries"
   ]
  },
  {
   "cell_type": "code",
   "execution_count": 10,
   "metadata": {
    "scrolled": true
   },
   "outputs": [],
   "source": [
    "import numpy as np\n",
    "import tensorflow as tf\n",
    "from tensorflow import keras\n",
    "from tensorflow.keras import layers\n",
    "import matplotlib.pyplot as plt\n",
    "\n",
    "import sys\n",
    "sys.path.append(\"/home/felix/PycharmProjects/Bank-Web-Scraping/\")\n",
    "\n",
    "import numpy as np\n",
    "import utils.get_url as ut"
   ]
  },
  {
   "cell_type": "code",
   "execution_count": 8,
   "metadata": {},
   "outputs": [
    {
     "data": {
      "text/plain": [
       "array(['https://www.vr.de/standorte/Z/berliner-volksbank-eg-filiale-zehdenick-9863.html',\n",
       "       'https://www.vr.de/standorte/Z/brandenburger-bank-volksbank-raiffeisenbank-eg-10721.html',\n",
       "       'https://www.vr.de/standorte/Z/geschaeftsstelle-zarrentin-raiffeisenbank-suedstormarn-moelln-9862.html',\n",
       "       'https://www.vr.de/standorte/Z/leipziger-volksbank-geschaeftsstelle-zwenkau-15396.html',\n",
       "       'https://www.vr.de/standorte/Z/raiffeisenbank-bad-koetzting-eg-geschaeftsstelle-zandt-harrling-9860.html',\n",
       "       'https://www.vr.de/standorte/Z/raiffeisenbank-bibertgrund-eg-9900.html',\n",
       "       'https://www.vr.de/standorte/Z/raiffeisenbank-ehingen-hochstraess-eg-zw-oepfingen-6598.html',\n",
       "       'https://www.vr.de/standorte/Z/raiffeisenbank-hessennord-eg-filiale-zierenberg-9892.html',\n",
       "       'https://www.vr.de/standorte/Z/raiffeisenbank-hochfranken-west-eg-geschaeftsstelle-zell-im-fic-9875.html',\n",
       "       'https://www.vr.de/standorte/Z/raiffeisenbank-schwaben-mitte-eg-9891.html',\n",
       "       'https://www.vr.de/standorte/Z/raiffeisenbank-zorneding-eg-9905.html',\n",
       "       'https://www.vr.de/standorte/Z/raiffeisen-volksbank-bad-staffelstein-eg-zapfendorf-9861.html',\n",
       "       'https://www.vr.de/standorte/Z/raiffeisen-volksbank-varel-nordenham-eg-filiale-zetel-9887.html',\n",
       "       'https://www.vr.de/standorte/Z/rb-tussenhausen-zaisertshofen-niederlassung-der-rb-tuerkheim-eg-8789.html',\n",
       "       'https://www.vr.de/standorte/Z/vb-riesa-eg-sb-standort-zeithain-11911.html',\n",
       "       'https://www.vr.de/standorte/Z/vbu-volksbank-im-unterland-eg-9856.html',\n",
       "       'https://www.vr.de/standorte/Z/volksbank-braunlage-eg-zweigstelle-9904.html',\n",
       "       'https://www.vr.de/standorte/Z/volksbank-bruchsal-bretten-eg-filiale-oestringen-6606.html',\n",
       "       'https://www.vr.de/standorte/Z/volksbank-bruchsal-bretten-eg-filiale-zaisenhausen-9859.html',\n",
       "       'https://www.vr.de/standorte/Z/volksbank-dessau-anhalt-eg-filiale-zerbst-9885.html',\n",
       "       'https://www.vr.de/standorte/Z/volksbank-eg-koethen-bitterfeld-9902.html',\n",
       "       'https://www.vr.de/standorte/Z/volksbank-erzgebirge-zweigniederlassung-der-volksbank-chemnitz-12236.html',\n",
       "       'https://www.vr.de/standorte/Z/volksbank-euskirchen-eg-9908.html',\n",
       "       'https://www.vr.de/standorte/Z/volksbank-heinsberg-eg-filiale-uebach-11437.html',\n",
       "       'https://www.vr.de/standorte/Z/volksbank-loebau-zittau-eg-filiale-zittau-leipziger-strasse-10491.html',\n",
       "       'https://www.vr.de/standorte/Z/volksbank-loebau-zittau-eg-hauptfiliale-zittau-9901.html',\n",
       "       'https://www.vr.de/standorte/Z/volksbank-mittleres-erzgebirge-eg-filiale-zschopau-9907.html',\n",
       "       'https://www.vr.de/standorte/Z/volksbank-neckartal-eg-geschaeftsstelle-zuzenhausen-9914.html',\n",
       "       'https://www.vr.de/standorte/Z/volksbank-rottweil-eg-geschaeftsstelle-zimmern-o-r-9895.html',\n",
       "       'https://www.vr.de/standorte/Z/volksbank-trier-eg-filiale-zerf-9886.html',\n",
       "       'https://www.vr.de/standorte/Z/volksbank-ueberherrn-eg-8810.html',\n",
       "       'https://www.vr.de/standorte/Z/volksbank-ueberherrn-eg-zwst-altforweiler-12625.html',\n",
       "       'https://www.vr.de/standorte/Z/volksbank-zwickau-eg-9921.html',\n",
       "       'https://www.vr.de/standorte/Z/vr-bank-hunsrueck-mosel-eg-geschaeftsstelle-zeltingen-9882.html',\n",
       "       'https://www.vr.de/standorte/Z/vr-bank-in-mittelbaden-eg-filiale-oetigheim-6610.html',\n",
       "       'https://www.vr.de/standorte/Z/vr-bank-wuerzburg-filiale-zell-9873.html',\n",
       "       'https://www.vr.de/standorte/Z/vr-bank-wuerzburg-filiale-zellingen-9880.html',\n",
       "       'https://www.vr.de/standorte/Z/vr-genobank-donauwald-eg-geschaeftsstelle-zwiesel-9924.html',\n",
       "       'https://www.vr.de/standorte/Z/raiffeisenbank-regensburg-wenzenbach-eg-filiale-zeitlarn-9868.html',\n",
       "       'https://www.vr.de/standorte/Z/volksbank-heinsberg-eg-sb-center-scherpenseel-11436.html',\n",
       "       'https://www.vr.de/standorte/Z/filiale-oetisheim-6612.html',\n",
       "       'https://www.vr.de/standorte/Z/filiale-odenheim-6607.html',\n",
       "       'https://www.vr.de/standorte/Z/sb-filiale-tiefenbach-6608.html',\n",
       "       'https://www.vr.de/standorte/Z/geschaeftsstelle-zossen-12048.html',\n",
       "       'https://www.vr.de/standorte/Z/volksbank-darmstadt-suedhessen-eg-sb-filiale-9926.html',\n",
       "       'https://www.vr.de/standorte/Z/volksbank-zeitz-niederlassung-der-volksbank-halle-saale-eg-9870.html',\n",
       "       'https://www.vr.de/standorte/Z/volksbank-chemnitz-eg-9920.html',\n",
       "       'https://www.vr.de/standorte/Z/geschaeftsstelle-zeilarn-9865.html',\n",
       "       'https://www.vr.de/standorte/Z/volksbank-wittenberg-eg-17257.html',\n",
       "       'https://www.vr.de/standorte/Z/beratungsstandort-zolling-9903.html',\n",
       "       'https://www.vr.de/standorte/Z/raiffeisenbank-hohenloher-land-eg-geschaeftsstelle-cappel-18720.html',\n",
       "       'https://www.vr.de/standorte/Z/raiffeisenbank-hohenloher-land-eg-geschaeftsstelle-michelbach-18719.html',\n",
       "       'https://www.vr.de/standorte/Z/raiffeisenbank-hohenloher-land-eg-geschaeftsstelle-zweiflingen-18721.html',\n",
       "       'https://www.vr.de/standorte/Z/raiffeisenbank-hohenloher-land-eg-sb-im-oe-center-18725.html',\n",
       "       'https://www.vr.de/standorte/Z/raiffeisen-volksbank-hassberge-eg-9864.html',\n",
       "       'https://www.vr.de/standorte/Z/volksbank-muensingen-eg-9923.html',\n",
       "       'https://www.vr.de/standorte/Z/volksbank-ueberlingen-8815.html',\n",
       "       'https://www.vr.de/standorte/Z/volksbank-vorpommern-eg-geschaeftsstelle-zuessow-15483.html',\n",
       "       'https://www.vr.de/standorte/Z/volksbank-lahr-eg-kompetenzcenter-zell-am-harmersbach-9871.html',\n",
       "       'https://www.vr.de/standorte/Z/volksbank-vorpommern-eg-geschaeftsstelle-zinnowitz-9898.html',\n",
       "       'https://www.vr.de/standorte/Z/raiffeisenbank-augsburger-land-west-eg-9913.html',\n",
       "       'https://www.vr.de/standorte/Z/raiffeisenbank-augsburger-land-west-eg-9912.html',\n",
       "       'https://www.vr.de/standorte/Z/volksbank-plochingen-eg-18792.html',\n",
       "       'https://www.vr.de/standorte/Z/servicepoint-uexheim-8837.html',\n",
       "       'https://www.vr.de/standorte/Z/raiffeisenbank-zeller-land-eg-9874.html',\n",
       "       'https://www.vr.de/standorte/Z/vr-bank-eg-region-aachen-10563.html',\n",
       "       'https://www.vr.de/standorte/Z/vr-bank-donau-mindel-eg-16289.html',\n",
       "       'https://www.vr.de/standorte/Z/filiale-oestringen-6605.html',\n",
       "       'https://www.vr.de/standorte/Z/volksbank-hochrhein-eg-geschaeftsstelle-birkendorf-8822.html',\n",
       "       'https://www.vr.de/standorte/Z/vr-bank-bamberg-forchheim-eg-11166.html',\n",
       "       'https://www.vr.de/standorte/Z/vb-hohenlohe-eg-gs-hungerfeld-6584.html',\n",
       "       'https://www.vr.de/standorte/Z/vb-hohenlohe-eg-sb-bag-18667.html',\n",
       "       'https://www.vr.de/standorte/Z/vb-hohenlohe-eg-sb-euronics-xxl-12077.html',\n",
       "       'https://www.vr.de/standorte/Z/volksbank-hohenlohe-eg-6583.html',\n",
       "       'https://www.vr.de/standorte/Z/vr-genobank-donauwald-eg-sb-geschaeftsstelle-zwiesel-stadtplat-17833.html',\n",
       "       'https://www.vr.de/standorte/Z/raiffeisenbank-main-spessart-eg-geschaeftsstelle-retzbach-9881.html',\n",
       "       'https://www.vr.de/standorte/Z/servicefiliale-oelbronn-6590.html',\n",
       "       'https://www.vr.de/standorte/Z/volksbank-zwickau-eg-9922.html',\n",
       "       'https://www.vr.de/standorte/Z/zevener-volksbank-eg-9890.html',\n",
       "       'https://www.vr.de/standorte/Z/volksbank-ueberlingen-filiale-ueberlingen-espach-8816.html',\n",
       "       'https://www.vr.de/standorte/Z/volksbank-ueberlingen-filiale-ueberlingen-la-piazza-8817.html',\n",
       "       'https://www.vr.de/standorte/Z/volksbank-klettgau-wutoeschingen-eg-17462.html',\n",
       "       'https://www.vr.de/standorte/Z/volksbank-goeppingen-eg-beratungsfiliale-zell-u-a-9876.html',\n",
       "       'https://www.vr.de/standorte/Z/volksbank-vogtland-saale-orla-eg-geschaeftsstelle-zeulenroda-9889.html',\n",
       "       'https://www.vr.de/standorte/Z/meine-volksbank-raiffeisenbank-eg-uebersee-8818.html',\n",
       "       'https://www.vr.de/standorte/Z/raiffeisenbank-augsburger-land-west-eg-4166.html',\n",
       "       'https://www.vr.de/standorte/Z/volksbank-koeln-bonn-eg-sb-standort-koeln-arcaden-19076.html',\n",
       "       'https://www.vr.de/standorte/Z/geldautomat-duerrn-6589.html',\n",
       "       'https://www.vr.de/standorte/Z/vr-bank-suedwestpfalz-eg-pirmasens-zweibruecken-geschaeftsstel-7401.html',\n",
       "       'https://www.vr.de/standorte/Z/volksbank-thueringen-mitte-eg-geschaeftsstelle-zella-mehlis-9878.html',\n",
       "       'https://www.vr.de/standorte/Z/geldausgabe-automat-kooperation-mit-cardpoint-19233.html',\n",
       "       'https://www.vr.de/standorte/Z/-8696.html',\n",
       "       'https://www.vr.de/standorte/Z/volksbank-dreilaendereck-eg-filiale-zell-i-w-9877.html'],\n",
       "      dtype='<U166')"
      ]
     },
     "execution_count": 8,
     "metadata": {},
     "output_type": "execute_result"
    }
   ],
   "source": [
    "url_arr_sp = ut.get_url_sp(\"z\")\n",
    "url_arr_vr =  ut.get_url_vr(\"z\")\n",
    "url_arr_vr"
   ]
  },
  {
   "cell_type": "code",
   "execution_count": 11,
   "metadata": {},
   "outputs": [
    {
     "ename": "TypeError",
     "evalue": "url_to_txt() got multiple values for argument 'proxy'",
     "output_type": "error",
     "traceback": [
      "\u001b[0;31m---------------------------------------------------------------------------\u001b[0m",
      "\u001b[0;31mTypeError\u001b[0m                                 Traceback (most recent call last)",
      "\u001b[0;32m<ipython-input-11-facf88e0aaee>\u001b[0m in \u001b[0;36m<module>\u001b[0;34m\u001b[0m\n\u001b[0;32m----> 1\u001b[0;31m \u001b[0mut\u001b[0m\u001b[0;34m.\u001b[0m\u001b[0murl_to_txt\u001b[0m\u001b[0;34m(\u001b[0m\u001b[0murl_arr_sp\u001b[0m\u001b[0;34m,\u001b[0m\u001b[0;34m\"../data/test_sp.txt\"\u001b[0m\u001b[0;34m,\u001b[0m\u001b[0mproxy\u001b[0m\u001b[0;34m=\u001b[0m\u001b[0;32mNone\u001b[0m\u001b[0;34m)\u001b[0m\u001b[0;34m\u001b[0m\u001b[0;34m\u001b[0m\u001b[0m\n\u001b[0m\u001b[1;32m      2\u001b[0m \u001b[0mut\u001b[0m\u001b[0;34m.\u001b[0m\u001b[0murl_to_txt\u001b[0m\u001b[0;34m(\u001b[0m\u001b[0murl_arr_vr\u001b[0m\u001b[0;34m,\u001b[0m\u001b[0;34m\"../data/test_vr.txt\"\u001b[0m\u001b[0;34m,\u001b[0m\u001b[0mproxy\u001b[0m\u001b[0;34m=\u001b[0m\u001b[0;32mNone\u001b[0m\u001b[0;34m)\u001b[0m\u001b[0;34m\u001b[0m\u001b[0;34m\u001b[0m\u001b[0m\n",
      "\u001b[0;31mTypeError\u001b[0m: url_to_txt() got multiple values for argument 'proxy'"
     ]
    }
   ],
   "source": [
    "ut.url_to_txt(url_arr_sp,\"../data/test_sp.txt\",proxy=None) \n",
    "ut.url_to_txt(url_arr_vr,\"../data/test_vr.txt\",proxy=None)"
   ]
  }
 ],
 "metadata": {
  "kernelspec": {
   "display_name": "Python 3",
   "language": "python",
   "name": "python3"
  },
  "language_info": {
   "codemirror_mode": {
    "name": "ipython",
    "version": 3
   },
   "file_extension": ".py",
   "mimetype": "text/x-python",
   "name": "python",
   "nbconvert_exporter": "python",
   "pygments_lexer": "ipython3",
   "version": "3.7.4"
  }
 },
 "nbformat": 4,
 "nbformat_minor": 4
}
